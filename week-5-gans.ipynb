{
 "cells": [
  {
   "cell_type": "code",
   "execution_count": 1,
   "id": "d190dd93",
   "metadata": {
    "_cell_guid": "b1076dfc-b9ad-4769-8c92-a6c4dae69d19",
    "_uuid": "8f2839f25d086af736a60e9eeb907d3b93b6e0e5",
    "execution": {
     "iopub.execute_input": "2024-11-02T01:24:13.054440Z",
     "iopub.status.busy": "2024-11-02T01:24:13.053913Z",
     "iopub.status.idle": "2024-11-02T01:24:47.387624Z",
     "shell.execute_reply": "2024-11-02T01:24:47.385678Z"
    },
    "papermill": {
     "duration": 34.349235,
     "end_time": "2024-11-02T01:24:47.390997",
     "exception": false,
     "start_time": "2024-11-02T01:24:13.041762",
     "status": "completed"
    },
    "tags": []
   },
   "outputs": [
    {
     "name": "stdout",
     "output_type": "stream",
     "text": [
      "Collecting tensorflow-addons==0.16.1\r\n",
      "  Downloading tensorflow_addons-0.16.1-cp310-cp310-manylinux_2_12_x86_64.manylinux2010_x86_64.whl.metadata (1.8 kB)\r\n",
      "Requirement already satisfied: typeguard>=2.7 in /opt/conda/lib/python3.10/site-packages (from tensorflow-addons==0.16.1) (4.3.0)\r\n",
      "Requirement already satisfied: typing-extensions>=4.10.0 in /opt/conda/lib/python3.10/site-packages (from typeguard>=2.7->tensorflow-addons==0.16.1) (4.12.2)\r\n",
      "Downloading tensorflow_addons-0.16.1-cp310-cp310-manylinux_2_12_x86_64.manylinux2010_x86_64.whl (1.1 MB)\r\n",
      "\u001b[2K   \u001b[90m━━━━━━━━━━━━━━━━━━━━━━━━━━━━━━━━━━━━━━━━\u001b[0m \u001b[32m1.1/1.1 MB\u001b[0m \u001b[31m16.3 MB/s\u001b[0m eta \u001b[36m0:00:00\u001b[0m\r\n",
      "\u001b[?25hInstalling collected packages: tensorflow-addons\r\n",
      "Successfully installed tensorflow-addons-0.16.1\r\n"
     ]
    }
   ],
   "source": [
    "# This Python 3 environment comes with many helpful analytics libraries installed\n",
    "# It is defined by the kaggle/python Docker image: https://github.com/kaggle/docker-python\n",
    "# For example, here's several helpful packages to load\n",
    "\n",
    "import numpy as np # linear algebra\n",
    "import pandas as pd # data processing, CSV file I/O (e.g. pd.read_csv)\n",
    "import tensorflow as tf\n",
    "import matplotlib.pyplot as plt\n",
    "from kaggle_datasets import KaggleDatasets\n",
    "import zipfile\n",
    "# Input data files are available in the read-only \"../input/\" directory\n",
    "# For example, running this (by clicking run or pressing Shift+Enter) will list all files under the input directory\n",
    "!pip install tensorflow-addons==0.16.1\n",
    "import os\n",
    "# for dirname, _, filenames in os.walk('/kaggle/input'):\n",
    "#     for filename in filenames:\n",
    "#         print(os.path.join(dirname, filename))\n",
    "\n",
    "# You can write up to 20GB to the current directory (/kaggle/working/) that gets preserved as output when you create a version using \"Save & Run All\" \n",
    "# You can also write temporary files to /kaggle/temp/, but they won't be saved outside of the current session"
   ]
  },
  {
   "cell_type": "markdown",
   "id": "935296cb",
   "metadata": {
    "papermill": {
     "duration": 0.008983,
     "end_time": "2024-11-02T01:24:47.409600",
     "exception": false,
     "start_time": "2024-11-02T01:24:47.400617",
     "status": "completed"
    },
    "tags": []
   },
   "source": [
    "# Problem Description/Data\n",
    "\n",
    "We have been given photos of landscapes, as well as corresponding Monet paintings. Our aim is to create a model that can take photos as inputs and generate Monet-style paintings. Kaggle has sophisticated means of testing how \"Monet-esque\" are model output is."
   ]
  },
  {
   "cell_type": "markdown",
   "id": "7c0977b0",
   "metadata": {
    "papermill": {
     "duration": 0.008897,
     "end_time": "2024-11-02T01:24:47.428414",
     "exception": false,
     "start_time": "2024-11-02T01:24:47.419517",
     "status": "completed"
    },
    "tags": []
   },
   "source": [
    "We'll begin by making tensorflow dataset objects out of the monet and photo tfrec directories. We will use a dataset of size 16. We are making an assumption (based on the competition description) that we are being given 300 Monet images, and 7000 photos to work with. To prepare the data, we'll create a parse function that will decode the images into numerical data (256x256x3, for RGB). The data will be ready to start using with our models."
   ]
  },
  {
   "cell_type": "code",
   "execution_count": 2,
   "id": "e17d80c8",
   "metadata": {
    "execution": {
     "iopub.execute_input": "2024-11-02T01:24:47.450374Z",
     "iopub.status.busy": "2024-11-02T01:24:47.449000Z",
     "iopub.status.idle": "2024-11-02T01:24:48.614782Z",
     "shell.execute_reply": "2024-11-02T01:24:48.613449Z"
    },
    "papermill": {
     "duration": 1.180675,
     "end_time": "2024-11-02T01:24:48.618278",
     "exception": false,
     "start_time": "2024-11-02T01:24:47.437603",
     "status": "completed"
    },
    "tags": []
   },
   "outputs": [
    {
     "name": "stdout",
     "output_type": "stream",
     "text": [
      "Monet TFRecord Files: 5\n",
      "Photo TFRecord Files: 20\n",
      "(TensorSpec(shape=(None, 256, 256, 3), dtype=tf.float32, name=None), TensorSpec(shape=(None,), dtype=tf.string, name=None), TensorSpec(shape=(None,), dtype=tf.string, name=None))\n",
      "(TensorSpec(shape=(None, 256, 256, 3), dtype=tf.float32, name=None), TensorSpec(shape=(None,), dtype=tf.string, name=None), TensorSpec(shape=(None,), dtype=tf.string, name=None))\n"
     ]
    }
   ],
   "source": [
    "GCS_PATH = KaggleDatasets().get_gcs_path()\n",
    "MONET_FILENAMES = tf.io.gfile.glob(str(GCS_PATH + '/monet_tfrec/*.tfrec'))\n",
    "print('Monet TFRecord Files:', len(MONET_FILENAMES))\n",
    "\n",
    "PHOTO_FILENAMES = tf.io.gfile.glob(str(GCS_PATH + '/photo_tfrec/*.tfrec'))\n",
    "print('Photo TFRecord Files:', len(PHOTO_FILENAMES))\n",
    "\n",
    "def _parse_function(proto):\n",
    "    feature_description = {\n",
    "        'image': tf.io.FixedLenFeature([], tf.string),       \n",
    "        'image_name': tf.io.FixedLenFeature([], tf.string), \n",
    "        'target': tf.io.FixedLenFeature([], tf.string)      \n",
    "    }\n",
    "    parsed_example = tf.io.parse_single_example(proto, feature_description)\n",
    "    image = tf.io.decode_jpeg(parsed_example['image'], channels=3)\n",
    "    image = tf.image.resize(image, [256, 256]) \n",
    "    image = image / 127.5 - 1\n",
    "    image_name = parsed_example['image_name']\n",
    "    target = parsed_example['target']  \n",
    "    \n",
    "    return image, image_name, target\n",
    "\n",
    "raw_dataset = tf.data.TFRecordDataset(PHOTO_FILENAMES)\n",
    "dataset_photos = raw_dataset.map(_parse_function)\n",
    "dataset_photos = dataset_photos.shuffle(buffer_size=100).batch(16).prefetch(buffer_size=tf.data.AUTOTUNE)\n",
    "raw_monet = tf.data.TFRecordDataset(MONET_FILENAMES)\n",
    "dataset_monet = raw_monet.map(_parse_function)\n",
    "dataset_monet = dataset_monet.shuffle(buffer_size=100).batch(16).prefetch(buffer_size=tf.data.AUTOTUNE)\n",
    "print(dataset_photos.element_spec)\n",
    "print(dataset_monet.element_spec)\n"
   ]
  },
  {
   "cell_type": "markdown",
   "id": "99dfc321",
   "metadata": {
    "papermill": {
     "duration": 0.011118,
     "end_time": "2024-11-02T01:24:48.639605",
     "exception": false,
     "start_time": "2024-11-02T01:24:48.628487",
     "status": "completed"
    },
    "tags": []
   },
   "source": [
    "# EDA"
   ]
  },
  {
   "cell_type": "markdown",
   "id": "1b2d94cc",
   "metadata": {
    "papermill": {
     "duration": 0.009324,
     "end_time": "2024-11-02T01:24:48.658629",
     "exception": false,
     "start_time": "2024-11-02T01:24:48.649305",
     "status": "completed"
    },
    "tags": []
   },
   "source": [
    "Let's create some visualizations of our data. We can try creating a histogram of the brightness values of each image."
   ]
  },
  {
   "cell_type": "code",
   "execution_count": 3,
   "id": "f421a037",
   "metadata": {
    "execution": {
     "iopub.execute_input": "2024-11-02T01:24:48.680563Z",
     "iopub.status.busy": "2024-11-02T01:24:48.680017Z",
     "iopub.status.idle": "2024-11-02T01:24:52.064099Z",
     "shell.execute_reply": "2024-11-02T01:24:52.062587Z"
    },
    "papermill": {
     "duration": 3.399983,
     "end_time": "2024-11-02T01:24:52.068243",
     "exception": false,
     "start_time": "2024-11-02T01:24:48.668260",
     "status": "completed"
    },
    "tags": []
   },
   "outputs": [
    {
     "data": {
      "image/png": "[encoded data removed]",
      "text/plain": [
       "<Figure size 640x480 with 1 Axes>"
      ]
     },
     "metadata": {},
     "output_type": "display_data"
    }
   ],
   "source": [
    "brightness_values = []\n",
    "for batch in dataset_monet:\n",
    "    images, _, _ = batch  # Unpack the batch\n",
    "    for image in images:\n",
    "        brightness = tf.reduce_mean(image).numpy()\n",
    "        brightness_values.append(brightness)\n",
    "\n",
    "plt.hist(brightness_values, bins=30, color=\"blue\")\n",
    "plt.title(\"Image Brightness Distribution\")\n",
    "plt.xlabel(\"Brightness\")\n",
    "plt.ylabel(\"Frequency\")\n",
    "plt.show()"
   ]
  },
  {
   "cell_type": "markdown",
   "id": "3ee80fcb",
   "metadata": {
    "papermill": {
     "duration": 0.009653,
     "end_time": "2024-11-02T01:24:52.089499",
     "exception": false,
     "start_time": "2024-11-02T01:24:52.079846",
     "status": "completed"
    },
    "tags": []
   },
   "source": [
    "Interesting - this is a sample size of 300. It's obviously not perfectly normal, but would be interesting if we had a larger Monet dataset or synthetic data - or perhaps the entire 2000+ painting collection of Monet's work.\n",
    "\n",
    "We'll look at the brightness distribution of photos as well."
   ]
  },
  {
   "cell_type": "code",
   "execution_count": 4,
   "id": "f9243d1e",
   "metadata": {
    "execution": {
     "iopub.execute_input": "2024-11-02T01:24:52.111151Z",
     "iopub.status.busy": "2024-11-02T01:24:52.110721Z",
     "iopub.status.idle": "2024-11-02T01:25:11.868779Z",
     "shell.execute_reply": "2024-11-02T01:25:11.867173Z"
    },
    "papermill": {
     "duration": 19.772283,
     "end_time": "2024-11-02T01:25:11.871680",
     "exception": false,
     "start_time": "2024-11-02T01:24:52.099397",
     "status": "completed"
    },
    "tags": []
   },
   "outputs": [
    {
     "data": {
      "image/png": "[encoded data removed]",
      "text/plain": [
       "<Figure size 640x480 with 1 Axes>"
      ]
     },
     "metadata": {},
     "output_type": "display_data"
    }
   ],
   "source": [
    "brightness_values = []\n",
    "for batch in dataset_photos:\n",
    "    images, _, _ = batch  # Unpack the batch\n",
    "    for image in images:\n",
    "        brightness = tf.reduce_mean(image).numpy()\n",
    "        brightness_values.append(brightness)\n",
    "\n",
    "plt.hist(brightness_values, bins=30, color=\"blue\")\n",
    "plt.title(\"Image Brightness Distribution\")\n",
    "plt.xlabel(\"Brightness\")\n",
    "plt.ylabel(\"Frequency\")\n",
    "plt.show()"
   ]
  },
  {
   "cell_type": "markdown",
   "id": "68f8fd44",
   "metadata": {
    "papermill": {
     "duration": 0.010195,
     "end_time": "2024-11-02T01:25:11.892313",
     "exception": false,
     "start_time": "2024-11-02T01:25:11.882118",
     "status": "completed"
    },
    "tags": []
   },
   "source": [
    "Looks about normally distributed! Let's look at the color distribution for paintings and photos respectively."
   ]
  },
  {
   "cell_type": "code",
   "execution_count": 5,
   "id": "1b1b4b0a",
   "metadata": {
    "execution": {
     "iopub.execute_input": "2024-11-02T01:25:11.916247Z",
     "iopub.status.busy": "2024-11-02T01:25:11.915150Z",
     "iopub.status.idle": "2024-11-02T01:29:46.236839Z",
     "shell.execute_reply": "2024-11-02T01:29:46.235354Z"
    },
    "papermill": {
     "duration": 274.347765,
     "end_time": "2024-11-02T01:29:46.250519",
     "exception": false,
     "start_time": "2024-11-02T01:25:11.902754",
     "status": "completed"
    },
    "tags": []
   },
   "outputs": [
    {
     "data": {
      "image/png": "[encoded data removed]",
      "text/plain": [
       "<Figure size 1200x400 with 1 Axes>"
      ]
     },
     "metadata": {},
     "output_type": "display_data"
    }
   ],
   "source": [
    "reds, greens, blues = [], [], []\n",
    "\n",
    "for batch in dataset_monet:\n",
    "    images, _, _ = batch  \n",
    "    \n",
    "    \n",
    "    for image in images:\n",
    "        reds.extend(image[:, :, 0].numpy().flatten())\n",
    "        greens.extend(image[:, :, 1].numpy().flatten())\n",
    "        blues.extend(image[:, :, 2].numpy().flatten())\n",
    "\n",
    "plt.figure(figsize=(12, 4))\n",
    "\n",
    "plt.hist(reds, bins=50, color='red', alpha=0.5, label=\"Red Channel\")\n",
    "plt.hist(greens, bins=50, color='green', alpha=0.5, label=\"Green Channel\")\n",
    "plt.hist(blues, bins=50, color='blue', alpha=0.5, label=\"Blue Channel\")\n",
    "\n",
    "plt.title(\"Color Distribution Across RGB Channels\")\n",
    "plt.xlabel(\"Pixel Intensity\")\n",
    "plt.ylabel(\"Frequency\")\n",
    "plt.legend()\n",
    "plt.show()"
   ]
  },
  {
   "cell_type": "code",
   "execution_count": 6,
   "id": "77cdca27",
   "metadata": {
    "execution": {
     "iopub.execute_input": "2024-11-02T01:29:46.275387Z",
     "iopub.status.busy": "2024-11-02T01:29:46.274896Z",
     "iopub.status.idle": "2024-11-02T01:36:20.641473Z",
     "shell.execute_reply": "2024-11-02T01:36:20.640117Z"
    },
    "papermill": {
     "duration": 394.394602,
     "end_time": "2024-11-02T01:36:20.656501",
     "exception": false,
     "start_time": "2024-11-02T01:29:46.261899",
     "status": "completed"
    },
    "tags": []
   },
   "outputs": [
    {
     "data": {
      "image/png": "[encoded data removed]",
      "text/plain": [
       "<Figure size 1200x400 with 1 Axes>"
      ]
     },
     "metadata": {},
     "output_type": "display_data"
    }
   ],
   "source": [
    "import random\n",
    "\n",
    "sample_size = 25  \n",
    "reds, greens, blues = [], [], []\n",
    "\n",
    "sampled_batches = random.sample(list(dataset_photos), sample_size)\n",
    "\n",
    "for batch in sampled_batches:\n",
    "    images, _, _ = batch  \n",
    "    \n",
    "    for image in images:\n",
    "        reds.extend(image[:, :, 0].numpy().flatten())\n",
    "        greens.extend(image[:, :, 1].numpy().flatten())\n",
    "        blues.extend(image[:, :, 2].numpy().flatten())\n",
    "\n",
    "plt.figure(figsize=(12, 4))\n",
    "\n",
    "plt.hist(reds, bins=50, color='red', alpha=0.5, label=\"Red Channel\")\n",
    "plt.hist(greens, bins=50, color='green', alpha=0.5, label=\"Green Channel\")\n",
    "plt.hist(blues, bins=50, color='blue', alpha=0.5, label=\"Blue Channel\")\n",
    "\n",
    "plt.title(\"Color Distribution Across RGB Channels\")\n",
    "plt.xlabel(\"Pixel Intensity\")\n",
    "plt.ylabel(\"Frequency\")\n",
    "plt.legend()\n",
    "plt.show()"
   ]
  },
  {
   "cell_type": "markdown",
   "id": "cb1f6de7",
   "metadata": {
    "papermill": {
     "duration": 0.011698,
     "end_time": "2024-11-02T01:36:20.680315",
     "exception": false,
     "start_time": "2024-11-02T01:36:20.668617",
     "status": "completed"
    },
    "tags": []
   },
   "source": [
    "# Models"
   ]
  },
  {
   "cell_type": "markdown",
   "id": "2e1da3c9",
   "metadata": {
    "papermill": {
     "duration": 0.011697,
     "end_time": "2024-11-02T01:36:20.704249",
     "exception": false,
     "start_time": "2024-11-02T01:36:20.692552",
     "status": "completed"
    },
    "tags": []
   },
   "source": [
    "Let's review the architecture of a cycle-GAN at a high level. We have two types of models that make up our cycle-GAN, a generator, and a discriminator. The generator will generate images, given an input. The discriminator will attempt to classify images as real, or fake. We need two generators, and two discriminators for our model: one generator for Photo -> Monet painting, and one generator for Monet painting -> Photo. We need two discriminators, one to classify the results of each generator. \n",
    "\n",
    "Our P->M generator will take a photo as input, and generate a Monet representation of the image, and our M->P generator will take the created Monet image, and try to re-create the original photo. The inverse of this process, (M->P takes a real Monet image and generates a fake photo, P->M tries to re-create the original real Monet image), occurs also. This process of training the generators gives us cycle consistency loss. \n",
    "\n",
    "Each discriminator receives either a fake photo/real photo, as well as a fake painting/real painting. Through the training process, the lease squares loss is computed each epoch.\n",
    "\n",
    "A common pitfall is for the discriminator to \"learn\" faster than the generator, so we will generally have the learning rate set higher for the generator, so it can stay ahead. We will experiment with hyperparameters, as well as tweaks to the training flow and architecture.\n",
    "\n",
    "The code to create the generator and discriminator models follows. We are using a fairly standard CNN architecture for both."
   ]
  },
  {
   "cell_type": "code",
   "execution_count": 7,
   "id": "ed6aafc6",
   "metadata": {
    "execution": {
     "iopub.execute_input": "2024-11-02T01:36:20.730911Z",
     "iopub.status.busy": "2024-11-02T01:36:20.730399Z",
     "iopub.status.idle": "2024-11-02T01:36:20.830986Z",
     "shell.execute_reply": "2024-11-02T01:36:20.829686Z"
    },
    "papermill": {
     "duration": 0.117722,
     "end_time": "2024-11-02T01:36:20.834324",
     "exception": false,
     "start_time": "2024-11-02T01:36:20.716602",
     "status": "completed"
    },
    "tags": []
   },
   "outputs": [],
   "source": [
    "import tensorflow as tf\n",
    "from tensorflow.keras import layers\n",
    "\n",
    "def make_generator_model():\n",
    "    model = tf.keras.Sequential()\n",
    "\n",
    "    model.add(layers.InputLayer(input_shape=(256, 256, 3)))\n",
    "\n",
    "    model.add(layers.Conv2D(64, (4, 4), strides=(2, 2), padding='same', use_bias=False))\n",
    "    model.add(layers.BatchNormalization())\n",
    "    model.add(layers.LeakyReLU(alpha=0.2))\n",
    "\n",
    "    model.add(layers.Conv2D(128, (4, 4), strides=(2, 2), padding='same', use_bias=False))\n",
    "    model.add(layers.BatchNormalization())\n",
    "    model.add(layers.LeakyReLU(alpha=0.2))\n",
    "\n",
    "    model.add(layers.Conv2D(256, (4, 4), strides=(2, 2), padding='same', use_bias=False))\n",
    "    model.add(layers.BatchNormalization())\n",
    "    model.add(layers.LeakyReLU(alpha=0.2))\n",
    "\n",
    "    model.add(layers.Conv2D(512, (4, 4), strides=(2, 2), padding='same', use_bias=False))\n",
    "    model.add(layers.BatchNormalization())\n",
    "    model.add(layers.LeakyReLU(alpha=0.2))\n",
    "\n",
    "    model.add(layers.Conv2DTranspose(256, (4, 4), strides=(2, 2), padding='same', use_bias=False))\n",
    "    model.add(layers.BatchNormalization())\n",
    "    model.add(layers.LeakyReLU(alpha=0.2))\n",
    "    \n",
    "    model.add(layers.Conv2DTranspose(128, (4, 4), strides=(2, 2), padding='same', use_bias=False))\n",
    "    model.add(layers.BatchNormalization())\n",
    "    model.add(layers.LeakyReLU(alpha=0.2))\n",
    "\n",
    "    model.add(layers.Conv2DTranspose(64, (4, 4), strides=(2, 2), padding='same', use_bias=False))\n",
    "    model.add(layers.BatchNormalization())\n",
    "    model.add(layers.LeakyReLU(alpha=0.2))\n",
    "\n",
    "    model.add(layers.Conv2DTranspose(32, (4, 4), strides=(2, 2), padding='same', use_bias=False))\n",
    "    model.add(layers.BatchNormalization())\n",
    "    model.add(layers.LeakyReLU(alpha=0.2))\n",
    "\n",
    "    model.add(layers.Conv2D(3, (4, 4), padding='same', use_bias=False, activation='tanh'))\n",
    "\n",
    "    return model\n",
    "\n",
    "\n",
    "\n",
    "\n",
    "\n",
    "\n",
    "\n"
   ]
  },
  {
   "cell_type": "code",
   "execution_count": 8,
   "id": "280546a0",
   "metadata": {
    "execution": {
     "iopub.execute_input": "2024-11-02T01:36:20.860605Z",
     "iopub.status.busy": "2024-11-02T01:36:20.860060Z",
     "iopub.status.idle": "2024-11-02T01:36:22.563764Z",
     "shell.execute_reply": "2024-11-02T01:36:22.562225Z"
    },
    "papermill": {
     "duration": 1.720649,
     "end_time": "2024-11-02T01:36:22.566915",
     "exception": false,
     "start_time": "2024-11-02T01:36:20.846266",
     "status": "completed"
    },
    "tags": []
   },
   "outputs": [
    {
     "name": "stderr",
     "output_type": "stream",
     "text": [
      "/opt/conda/lib/python3.10/site-packages/keras/src/layers/convolutional/base_conv.py:107: UserWarning: Do not pass an `input_shape`/`input_dim` argument to a layer. When using Sequential models, prefer using an `Input(shape)` object as the first layer in the model instead.\n",
      "  super().__init__(activity_regularizer=activity_regularizer, **kwargs)\n",
      "/opt/conda/lib/python3.10/site-packages/keras/src/layers/activations/leaky_relu.py:41: UserWarning: Argument `alpha` is deprecated. Use `negative_slope` instead.\n",
      "  warnings.warn(\n",
      "/opt/conda/lib/python3.10/site-packages/keras/src/layers/core/input_layer.py:25: UserWarning: Argument `input_shape` is deprecated. Use `shape` instead.\n",
      "  warnings.warn(\n"
     ]
    }
   ],
   "source": [
    "import tensorflow as tf\n",
    "from tensorflow.keras import layers\n",
    "\n",
    "def make_discriminator_model(use_sigmoid=True):\n",
    "    \"\"\"\n",
    "    Create a discriminator model for GAN.\n",
    "    Args:\n",
    "        use_sigmoid: Boolean to determine if final activation should be sigmoid\n",
    "                    (True for standard GAN, False for WGAN)\n",
    "    \"\"\"\n",
    "    model = tf.keras.Sequential([\n",
    "        layers.Conv2D(64, (4, 4), strides=(2, 2), padding='same',\n",
    "                     input_shape=[256, 256, 3]),\n",
    "        layers.LeakyReLU(alpha=0.2),\n",
    "        layers.Dropout(0.3),\n",
    "       \n",
    "        layers.Conv2D(128, (4, 4), strides=(2, 2), padding='same'),\n",
    "        layers.LeakyReLU(alpha=0.2),\n",
    "        layers.Dropout(0.3),\n",
    "       \n",
    "        layers.Conv2D(256, (4, 4), strides=(2, 2), padding='same'),\n",
    "        layers.LeakyReLU(alpha=0.2),\n",
    "        layers.Dropout(0.3),\n",
    "       \n",
    "        layers.Conv2D(512, (4, 4), strides=(2, 2), padding='same'),\n",
    "        layers.LeakyReLU(alpha=0.2),\n",
    "        layers.Dropout(0.3),\n",
    "\n",
    "        layers.Conv2D(512, (4, 4), strides=(2, 2), padding='same'),\n",
    "        layers.LeakyReLU(alpha=0.2),\n",
    "        layers.Dropout(0.3),\n",
    "     \n",
    "        layers.Flatten(),\n",
    "        \n",
    "        layers.Dense(1024),\n",
    "        layers.LeakyReLU(alpha=0.2),\n",
    "        layers.Dropout(0.4),\n",
    "        \n",
    "        layers.Dense(1, activation='sigmoid' if use_sigmoid else None)\n",
    "    ])\n",
    "    \n",
    "    return model\n",
    "\n",
    "\n",
    "\n",
    "discriminator_monet = make_discriminator_model()  \n",
    "discriminator_photo = make_discriminator_model()\n",
    "\n",
    "generator_photo_to_monet = make_generator_model()  \n",
    "generator_monet_to_photo = make_generator_model() \n",
    "\n"
   ]
  },
  {
   "cell_type": "code",
   "execution_count": 9,
   "id": "b6d2d452",
   "metadata": {
    "execution": {
     "iopub.execute_input": "2024-11-02T01:36:22.593280Z",
     "iopub.status.busy": "2024-11-02T01:36:22.592807Z",
     "iopub.status.idle": "2024-11-02T01:36:22.605765Z",
     "shell.execute_reply": "2024-11-02T01:36:22.604454Z"
    },
    "papermill": {
     "duration": 0.029523,
     "end_time": "2024-11-02T01:36:22.608675",
     "exception": false,
     "start_time": "2024-11-02T01:36:22.579152",
     "status": "completed"
    },
    "tags": []
   },
   "outputs": [],
   "source": [
    "cross_entropy = tf.keras.losses.BinaryCrossentropy(from_logits=False)\n",
    "loss_fn = tf.keras.losses.MeanSquaredError()\n",
    "\n",
    "import tensorflow as tf\n",
    "\n",
    "def discriminator_loss(real_output, fake_output):\n",
    "    \"\"\"\n",
    "    Discriminator loss using MSE with label smoothing and noise reduction\n",
    "    Args:\n",
    "        real_output: Discriminator predictions on real images\n",
    "        fake_output: Discriminator predictions on generated images\n",
    "    \"\"\"\n",
    "    cross_entropy = tf.keras.losses.BinaryCrossentropy(from_logits=False)\n",
    "    \n",
    "    real_loss = cross_entropy(tf.ones_like(real_output) * 0.9, real_output)\n",
    "    fake_loss = cross_entropy(tf.zeros_like(fake_output), fake_output)\n",
    "    \n",
    "    total_loss = real_loss * 1.1 + fake_loss * 0.9\n",
    "    \n",
    "    return total_loss\n",
    "\n",
    "def cycle_loss(real_image, cycled_image, lambda_cycle=10):\n",
    "    return lambda_cycle * tf.reduce_mean(tf.abs(real_image - cycled_image))\n",
    "\n",
    "def identity_loss(real_image, same_image, lambda_identity=5):\n",
    "    return lambda_identity * tf.reduce_mean(tf.abs(real_image - same_image))\n",
    "\n",
    "def generator_loss(fake_output):\n",
    "    return cross_entropy(tf.ones_like(fake_output), fake_output)\n",
    "\n",
    "\n",
    "\n",
    "\n"
   ]
  },
  {
   "cell_type": "markdown",
   "id": "cce2521a",
   "metadata": {
    "papermill": {
     "duration": 0.013129,
     "end_time": "2024-11-02T01:36:22.634092",
     "exception": false,
     "start_time": "2024-11-02T01:36:22.620963",
     "status": "completed"
    },
    "tags": []
   },
   "source": [
    "Our function train_step will train the generator and discriminator, calculate the cycle loss\n",
    "and discriminator loss, and apply gradients to our training variables. Train_step is called\n",
    "by train which establishes the outer loop, iterating thru the number of epochs we specify.\n",
    "After the final epoch, save_paintings is called which produces our final output."
   ]
  },
  {
   "cell_type": "code",
   "execution_count": 10,
   "id": "50a70d98",
   "metadata": {
    "execution": {
     "iopub.execute_input": "2024-11-02T01:36:22.660202Z",
     "iopub.status.busy": "2024-11-02T01:36:22.659780Z",
     "iopub.status.idle": "2024-11-02T01:36:24.329806Z",
     "shell.execute_reply": "2024-11-02T01:36:24.328324Z"
    },
    "papermill": {
     "duration": 1.686836,
     "end_time": "2024-11-02T01:36:24.333245",
     "exception": false,
     "start_time": "2024-11-02T01:36:22.646409",
     "status": "completed"
    },
    "tags": []
   },
   "outputs": [],
   "source": [
    "discriminator_monet = make_discriminator_model()  \n",
    "discriminator_photo = make_discriminator_model()\n",
    "\n",
    "generator_photo_to_monet = make_generator_model()  \n",
    "generator_monet_to_photo = make_generator_model() \n",
    "\n",
    "\n",
    "\n",
    "\n",
    "import tensorflow as tf\n",
    "import os\n",
    "import matplotlib.pyplot as plt\n",
    "\n",
    "generator_p2m_optimizer = tf.keras.optimizers.Adam(learning_rate=0.0002, beta_1=0.5, beta_2=0.999)\n",
    "generator_m2p_optimizer = tf.keras.optimizers.Adam(learning_rate=0.0002, beta_1=0.5, beta_2=0.999)\n",
    "discriminator_monet_optimizer = tf.keras.optimizers.Adam(learning_rate=0.0001, beta_1=0.5, beta_2=0.999)\n",
    "discriminator_photo_optimizer = tf.keras.optimizers.Adam(learning_rate=0.0001, beta_1=0.5, beta_2=0.999)\n",
    "\n",
    "@tf.function\n",
    "def train_step(real_photos, real_monets):\n",
    "    with tf.GradientTape(persistent=True) as tape:\n",
    "        fake_monets = generator_photo_to_monet(real_photos, training=True)\n",
    "        fake_photos = generator_monet_to_photo(real_monets, training=True)\n",
    "\n",
    "        disc_real_monet = discriminator_monet(real_monets, training=True)\n",
    "        disc_fake_monet = discriminator_monet(fake_monets, training=True)\n",
    "        disc_real_photo = discriminator_photo(real_photos, training=True)\n",
    "        disc_fake_photo = discriminator_photo(fake_photos, training=True)\n",
    "\n",
    "        gen_photo_to_monet_loss = generator_loss(disc_fake_monet)\n",
    "        gen_monet_to_photo_loss = generator_loss(disc_fake_photo)\n",
    "        \n",
    "        disc_monet_loss = discriminator_loss(disc_real_monet, disc_fake_monet)\n",
    "        disc_photo_loss = discriminator_loss(disc_real_photo, disc_fake_photo)\n",
    "\n",
    "        cycled_photos = generator_monet_to_photo(fake_monets, training=True)\n",
    "        cycled_monets = generator_photo_to_monet(fake_photos, training=True)\n",
    "        \n",
    "        LAMBDA_CYCLE = 10.0\n",
    "        cycle_loss_total = (cycle_loss(real_photos, cycled_photos) + \n",
    "                          cycle_loss(real_monets, cycled_monets)) * LAMBDA_CYCLE\n",
    "\n",
    "        LAMBDA_IDENTITY = 0.5 * LAMBDA_CYCLE\n",
    "        same_monets = generator_photo_to_monet(real_monets, training=True)\n",
    "        same_photos = generator_monet_to_photo(real_photos, training=True)\n",
    "        identity_loss_total = (identity_loss(real_monets, same_monets) + \n",
    "                             identity_loss(real_photos, same_photos)) * LAMBDA_IDENTITY\n",
    "\n",
    "        total_gen_p2m_loss = (gen_photo_to_monet_loss + \n",
    "                            cycle_loss_total * 0.5 + \n",
    "                            identity_loss_total * 0.5)\n",
    "                            \n",
    "        total_gen_m2p_loss = (gen_monet_to_photo_loss + \n",
    "                            cycle_loss_total * 0.5 + \n",
    "                            identity_loss_total * 0.5)\n",
    "\n",
    "    gen_p2m_grads = tape.gradient(total_gen_p2m_loss, \n",
    "                                generator_photo_to_monet.trainable_variables)\n",
    "    gen_m2p_grads = tape.gradient(total_gen_m2p_loss, \n",
    "                                generator_monet_to_photo.trainable_variables)\n",
    "    disc_monet_grads = tape.gradient(disc_monet_loss, \n",
    "                                   discriminator_monet.trainable_variables)\n",
    "    disc_photo_grads = tape.gradient(disc_photo_loss, \n",
    "                                   discriminator_photo.trainable_variables)\n",
    "\n",
    "    generator_p2m_optimizer.apply_gradients(\n",
    "        zip(gen_p2m_grads, generator_photo_to_monet.trainable_variables))\n",
    "    generator_m2p_optimizer.apply_gradients(\n",
    "        zip(gen_m2p_grads, generator_monet_to_photo.trainable_variables))\n",
    "    discriminator_monet_optimizer.apply_gradients(\n",
    "        zip(disc_monet_grads, discriminator_monet.trainable_variables))\n",
    "    discriminator_photo_optimizer.apply_gradients(\n",
    "        zip(disc_photo_grads, discriminator_photo.trainable_variables))\n",
    "\n",
    "    return total_gen_p2m_loss + total_gen_m2p_loss, disc_monet_loss, disc_photo_loss\n",
    "\n",
    "def train(dataset_photo, dataset_monet, epochs):\n",
    "    for epoch in range(epochs):\n",
    "        print(f'Starting epoch {epoch + 1}')\n",
    "        \n",
    "        total_gen_loss = 0\n",
    "        total_disc_monet_loss = 0\n",
    "        total_disc_photo_loss = 0\n",
    "        n_batches = 0\n",
    "        \n",
    "        for photo_batch, monet_batch in tf.data.Dataset.zip((dataset_photo, dataset_monet)):\n",
    "                        \n",
    "            gen_loss, disc_m_loss, disc_p_loss = train_step(photo_batch[0], monet_batch[0])\n",
    "            \n",
    "            total_gen_loss += gen_loss\n",
    "            total_disc_monet_loss += disc_m_loss\n",
    "            total_disc_photo_loss += disc_p_loss\n",
    "            n_batches += 1\n",
    "        \n",
    "        if n_batches > 0:\n",
    "            print(f'Epoch {epoch + 1}:')\n",
    "            print(f'Generator Loss: {total_gen_loss/n_batches}')\n",
    "            print(f'Monet Discriminator Loss: {total_disc_monet_loss/n_batches}')\n",
    "            print(f'Photo Discriminator Loss: {total_disc_photo_loss/n_batches}')\n",
    "        \n",
    "    save_paintings(generator_photo_to_monet,dataset_photo)\n",
    "\n",
    "def save_paintings(model, dataset_photo):\n",
    "    images_saved = 0\n",
    "    batch_num = 0\n",
    "    tmp_dir = '/tmp/images'\n",
    "    os.makedirs(tmp_dir, exist_ok=True)\n",
    "\n",
    "    for photo_batch in dataset_photo:\n",
    "        \n",
    "        predictions = model(photo_batch, training=False)\n",
    "        for i in range(predictions.shape[0]):\n",
    "            img = (predictions[i] + 1) * 127.5  \n",
    "            img = tf.clip_by_value(img, 0, 255)\n",
    "            img = img.numpy().astype('uint8')\n",
    "            plt.imsave(f'{tmp_dir}/image_{images_saved}_{batch_num}.png', img)\n",
    "            images_saved += 1\n",
    "        batch_num += 1\n"
   ]
  },
  {
   "cell_type": "code",
   "execution_count": 11,
   "id": "1bd392b7",
   "metadata": {
    "execution": {
     "iopub.execute_input": "2024-11-02T01:36:24.360485Z",
     "iopub.status.busy": "2024-11-02T01:36:24.359302Z",
     "iopub.status.idle": "2024-11-02T01:36:24.365941Z",
     "shell.execute_reply": "2024-11-02T01:36:24.364622Z"
    },
    "papermill": {
     "duration": 0.023289,
     "end_time": "2024-11-02T01:36:24.368781",
     "exception": false,
     "start_time": "2024-11-02T01:36:24.345492",
     "status": "completed"
    },
    "tags": []
   },
   "outputs": [],
   "source": [
    "import zipfile\n",
    "import os\n",
    "\n",
    "# EPOCHS = 200\n",
    "# train(dataset_photos,dataset_monet,EPOCHS)\n",
    "# tmp_dir = '/tmp/images'\n",
    "# zip_file_path = '/kaggle/working/images.zip'\n",
    "# with zipfile.ZipFile(zip_file_path, 'w') as zipf:\n",
    "#     for filename in os.listdir(tmp_dir):\n",
    "#         file_path = os.path.join(tmp_dir, filename)\n",
    "#         zipf.write(file_path, arcname=filename)\n",
    "\n",
    "# print(f\"Images saved and zipped at {zip_file_path}\")\n",
    "\n",
    "\n"
   ]
  },
  {
   "cell_type": "markdown",
   "id": "486129c3",
   "metadata": {
    "papermill": {
     "duration": 0.011397,
     "end_time": "2024-11-02T01:36:24.392040",
     "exception": false,
     "start_time": "2024-11-02T01:36:24.380643",
     "status": "completed"
    },
    "tags": []
   },
   "source": [
    "# Results and Analysis\n",
    "\n",
    "There are many different factors we could play with, we decided to focus on epochs and learning rate. The best-performing result was use of 200 epochs, and a learning rate of .0002 for the generator, and 0.0001 for the discriminator. This yielded a decent score for the leaderboard. With the limited computing power we have, a single test run-through takes many hours, and with this being a simple assignment to learn the basics of GANs, there is only so much we can cover. A last architectural tweak we experimented with was training the generator twice as much as the discriminator, which has been said to improve training stability. The code for this is below, and full results below the code."
   ]
  },
  {
   "cell_type": "markdown",
   "id": "817e26fe",
   "metadata": {
    "papermill": {
     "duration": 0.011905,
     "end_time": "2024-11-02T01:36:24.415668",
     "exception": false,
     "start_time": "2024-11-02T01:36:24.403763",
     "status": "completed"
    },
    "tags": []
   },
   "source": [
    "We'll experiment with training the generator twice as much as the discriminator."
   ]
  },
  {
   "cell_type": "code",
   "execution_count": 12,
   "id": "49727aa9",
   "metadata": {
    "execution": {
     "iopub.execute_input": "2024-11-02T01:36:24.442259Z",
     "iopub.status.busy": "2024-11-02T01:36:24.441281Z",
     "iopub.status.idle": "2024-11-02T01:36:24.463982Z",
     "shell.execute_reply": "2024-11-02T01:36:24.462451Z"
    },
    "papermill": {
     "duration": 0.039183,
     "end_time": "2024-11-02T01:36:24.466730",
     "exception": false,
     "start_time": "2024-11-02T01:36:24.427547",
     "status": "completed"
    },
    "tags": []
   },
   "outputs": [],
   "source": [
    "@tf.function\n",
    "def train_step_double(real_photos, real_monets,generator_photo_to_monet,generator_monet_to_photo):\n",
    "    with tf.GradientTape(persistent=True) as tape:\n",
    "        fake_monets = generator_photo_to_monet(real_photos, training=True)\n",
    "        fake_photos = generator_monet_to_photo(real_monets, training=True)\n",
    "\n",
    "        disc_real_monet = discriminator_monet(real_monets, training=True)\n",
    "        disc_fake_monet = discriminator_monet(fake_monets, training=True)\n",
    "        disc_real_photo = discriminator_photo(real_photos, training=True)\n",
    "        disc_fake_photo = discriminator_photo(fake_photos, training=True)\n",
    "\n",
    "        gen_photo_to_monet_loss = generator_loss(disc_fake_monet)\n",
    "        gen_monet_to_photo_loss = generator_loss(disc_fake_photo)\n",
    "        \n",
    "        disc_monet_loss = discriminator_loss(disc_real_monet, disc_fake_monet)\n",
    "        disc_photo_loss = discriminator_loss(disc_real_photo, disc_fake_photo)\n",
    "\n",
    "        cycled_photos = generator_monet_to_photo(fake_monets, training=True)\n",
    "        cycled_monets = generator_photo_to_monet(fake_photos, training=True)\n",
    "        \n",
    "        LAMBDA_CYCLE = 10.0\n",
    "        cycle_loss_total = (cycle_loss(real_photos, cycled_photos) + \n",
    "                            cycle_loss(real_monets, cycled_monets)) * LAMBDA_CYCLE\n",
    "\n",
    "        LAMBDA_IDENTITY = 0.5 * LAMBDA_CYCLE\n",
    "        same_monets = generator_photo_to_monet(real_monets, training=True)\n",
    "        same_photos = generator_monet_to_photo(real_photos, training=True)\n",
    "        identity_loss_total = (identity_loss(real_monets, same_monets) + \n",
    "                               identity_loss(real_photos, same_photos)) * LAMBDA_IDENTITY\n",
    "\n",
    "        total_gen_p2m_loss = (gen_photo_to_monet_loss + \n",
    "                              cycle_loss_total * 0.5 + \n",
    "                              identity_loss_total * 0.5)\n",
    "                              \n",
    "        total_gen_m2p_loss = (gen_monet_to_photo_loss + \n",
    "                              cycle_loss_total * 0.5 + \n",
    "                              identity_loss_total * 0.5)\n",
    "\n",
    "    gen_p2m_grads = tape.gradient(total_gen_p2m_loss, generator_photo_to_monet.trainable_variables)\n",
    "    gen_m2p_grads = tape.gradient(total_gen_m2p_loss, generator_monet_to_photo.trainable_variables)\n",
    "\n",
    "    generator_p2m_optimizer.apply_gradients(zip(gen_p2m_grads, generator_photo_to_monet.trainable_variables))\n",
    "    generator_m2p_optimizer.apply_gradients(zip(gen_m2p_grads, generator_monet_to_photo.trainable_variables))\n",
    "    generator_p2m_optimizer.apply_gradients(zip(gen_p2m_grads, generator_photo_to_monet.trainable_variables))\n",
    "    generator_m2p_optimizer.apply_gradients(zip(gen_m2p_grads, generator_monet_to_photo.trainable_variables))\n",
    "\n",
    "    disc_monet_grads = tape.gradient(disc_monet_loss, discriminator_monet.trainable_variables)\n",
    "    disc_photo_grads = tape.gradient(disc_photo_loss, discriminator_photo.trainable_variables)\n",
    "\n",
    "    discriminator_monet_optimizer.apply_gradients(zip(disc_monet_grads, discriminator_monet.trainable_variables))\n",
    "    discriminator_photo_optimizer.apply_gradients(zip(disc_photo_grads, discriminator_photo.trainable_variables))\n",
    "\n",
    "    del tape\n",
    "\n",
    "    return total_gen_p2m_loss + total_gen_m2p_loss, disc_monet_loss, disc_photo_loss\n",
    "\n",
    "\n",
    "def train_double(dataset_photo, dataset_monet, epochs,generator_photo_to_monet,generator_monet_to_photo):\n",
    "    for epoch in range(epochs):\n",
    "        print(f'Starting epoch {epoch + 1}')\n",
    "        \n",
    "      \n",
    "        total_gen_loss = 0\n",
    "        total_disc_monet_loss = 0\n",
    "        total_disc_photo_loss = 0\n",
    "        n_batches = 0\n",
    "        \n",
    "        for photo_batch, monet_batch in tf.data.Dataset.zip((dataset_photo, dataset_monet)):\n",
    "                        \n",
    "            gen_loss, disc_m_loss, disc_p_loss = train_step_double(photo_batch[0], monet_batch[0],generator_photo_to_monet,generator_monet_to_photo)\n",
    "            \n",
    "            total_gen_loss += gen_loss\n",
    "            total_disc_monet_loss += disc_m_loss\n",
    "            total_disc_photo_loss += disc_p_loss\n",
    "            n_batches += 1\n",
    "        \n",
    "       \n",
    "        if n_batches > 0:\n",
    "            print(f'Epoch {epoch + 1}:')\n",
    "            print(f'Generator Loss: {total_gen_loss/n_batches}')\n",
    "            print(f'Monet Discriminator Loss: {total_disc_monet_loss/n_batches}')\n",
    "            print(f'Photo Discriminator Loss: {total_disc_photo_loss/n_batches}')\n",
    "        \n",
    "\n",
    "    save_paintings(generator_photo_to_monet,dataset_photo)"
   ]
  },
  {
   "cell_type": "code",
   "execution_count": 13,
   "id": "42b91134",
   "metadata": {
    "execution": {
     "iopub.execute_input": "2024-11-02T01:36:24.495590Z",
     "iopub.status.busy": "2024-11-02T01:36:24.494185Z",
     "iopub.status.idle": "2024-11-02T01:36:24.501009Z",
     "shell.execute_reply": "2024-11-02T01:36:24.499593Z"
    },
    "papermill": {
     "duration": 0.023446,
     "end_time": "2024-11-02T01:36:24.504025",
     "exception": false,
     "start_time": "2024-11-02T01:36:24.480579",
     "status": "completed"
    },
    "tags": []
   },
   "outputs": [],
   "source": [
    "\n",
    "EPOCHS = 200\n",
    "# train_double(dataset_photos,dataset_monet,EPOCHS,generator_photo_to_monet,generator_monet_to_photo)\n",
    "# tmp_dir = '/tmp/images'\n",
    "# zip_file_path = '/kaggle/working/images.zip'\n",
    "# with zipfile.ZipFile(zip_file_path, 'w') as zipf:\n",
    "#     for filename in os.listdir(tmp_dir):\n",
    "#         file_path = os.path.join(tmp_dir, filename)\n",
    "#         zipf.write(file_path, arcname=filename)\n",
    "\n",
    "# print(f\"Images saved and zipped at {zip_file_path}\")"
   ]
  },
  {
   "cell_type": "markdown",
   "id": "474351f0",
   "metadata": {
    "papermill": {
     "duration": 0.012168,
     "end_time": "2024-11-02T01:36:24.529942",
     "exception": false,
     "start_time": "2024-11-02T01:36:24.517774",
     "status": "completed"
    },
    "tags": []
   },
   "source": [
    "# Results Continued\n",
    "\n",
    "| Epochs | Gen Learning Rate | Disc Learning Rate | Score |\n",
    "|--------|--------------------|--------------------|-------|\n",
    "| 200      | 0.0002            | 0.0001            | 82.17  |\n",
    "| 150      | 0.0001            | 0.0001            | 100.46  |\n",
    "| 200      | 0.0003            | 0.0001            | 90.89  |\n",
    "| 200 (Gen trained twice)     | 0.0002            | 0.0001            | 95.7  |\n",
    "\n"
   ]
  },
  {
   "cell_type": "markdown",
   "id": "62c01820",
   "metadata": {
    "papermill": {
     "duration": 0.012471,
     "end_time": "2024-11-02T01:36:24.554818",
     "exception": false,
     "start_time": "2024-11-02T01:36:24.542347",
     "status": "completed"
    },
    "tags": []
   },
   "source": [
    "# Conclusion\n",
    "\n",
    "This was a tough end to a frankly frustrating course. I am not sure what the instructor hoped to achieve by recording several overview-ish lecture videos, and then chucking us off the deep end to research model architectures and everything else. The first course in this specialization was a decent blend of hands-on assignments (albeit with some bugs), and a hands-on project. The assignments went a lot further in reinforcing the learning and understanding of algorithms. The delivery of Weeks 3-5 of this course just screams a lack of effort, and lazily trying to pump out a course as quickly as possible.\n",
    "\n",
    "Likely having more training data would yield a better result. 300 images is not a lot. Implementing instance normalization instead of batch normalization was one architectural potential improvement I researched, but I decided it out of scope for this project. \n",
    "\n",
    "We also could have experimented with other types of loss functions, but again at multiple hours per experiment, I believe some compromise has to be made here with such an open-ended assignment format."
   ]
  },
  {
   "cell_type": "markdown",
   "id": "badcbff7",
   "metadata": {
    "papermill": {
     "duration": 0.011961,
     "end_time": "2024-11-02T01:36:24.579199",
     "exception": false,
     "start_time": "2024-11-02T01:36:24.567238",
     "status": "completed"
    },
    "tags": []
   },
   "source": [
    "# References\n",
    "\n",
    "Haiku Tech Center. (2020, November). CycleGAN: A GAN architecture for learning unpaired image-to-image transformations. Retrieved from https://www.haikutechcenter.com/2020/11/cyclegan-gan-architecture-for-learning.html\n",
    "\n",
    "TensorFlow. (n.d.). CycleGAN tutorial. TensorFlow. Retrieved November 1, 2024, from https://www.tensorflow.org/tutorials/generative/cyclegan\n",
    "\n",
    "Zhu, J.-Y., Park, T., Isola, P., & Efros, A. A. (2017). Unpaired image-to-image translation using cycle-consistent adversarial networks. In Proceedings of the IEEE International Conference on Computer Vision (ICCV), 2223-2232. https://doi.org/10.1109/ICCV.2017.244"
   ]
  }
 ],
 "metadata": {
  "kaggle": {
   "accelerator": "none",
   "dataSources": [
    {
     "databundleVersionId": 1475600,
     "sourceId": 21755,
     "sourceType": "competition"
    }
   ],
   "dockerImageVersionId": 30786,
   "isGpuEnabled": false,
   "isInternetEnabled": true,
   "language": "python",
   "sourceType": "notebook"
  },
  "kernelspec": {
   "display_name": "Python 3",
   "language": "python",
   "name": "python3"
  },
  "language_info": {
   "codemirror_mode": {
    "name": "ipython",
    "version": 3
   },
   "file_extension": ".py",
   "mimetype": "text/x-python",
   "name": "python",
   "nbconvert_exporter": "python",
   "pygments_lexer": "ipython3",
   "version": "3.10.14"
  },
  "papermill": {
   "default_parameters": {},
   "duration": 738.414213,
   "end_time": "2024-11-02T01:36:28.119302",
   "environment_variables": {},
   "exception": null,
   "input_path": "__notebook__.ipynb",
   "output_path": "__notebook__.ipynb",
   "parameters": {},
   "start_time": "2024-11-02T01:24:09.705089",
   "version": "2.6.0"
  }
 },
 "nbformat": 4,
 "nbformat_minor": 5
}
